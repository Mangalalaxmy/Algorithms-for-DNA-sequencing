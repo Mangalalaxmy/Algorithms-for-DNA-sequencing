{
 "cells": [
  {
   "cell_type": "code",
   "execution_count": 39,
   "metadata": {
    "collapsed": false
   },
   "outputs": [
    {
     "data": {
      "text/plain": [
       "'C:\\\\Users\\\\Ramya\\\\Documents'"
      ]
     },
     "execution_count": 39,
     "metadata": {},
     "output_type": "execute_result"
    }
   ],
   "source": [
    "pwd"
   ]
  },
  {
   "cell_type": "code",
   "execution_count": 42,
   "metadata": {
    "collapsed": false
   },
   "outputs": [
    {
     "name": "stdout",
     "output_type": "stream",
     "text": [
      "C:\\Users\\Ramya\\Desktop\\Ramya\\GenomicDataScience\\Algorithms for GDS\n"
     ]
    }
   ],
   "source": [
    "cd \"C:\\Users\\Ramya\\Desktop\\Ramya\\GenomicDataScience\\Algorithms for GDS\""
   ]
  },
  {
   "cell_type": "code",
   "execution_count": 43,
   "metadata": {
    "collapsed": true
   },
   "outputs": [],
   "source": [
    "def readGenome(filename):\n",
    "    genome = ''\n",
    "    with open(filename, 'r') as f:\n",
    "        for line in f:\n",
    "            # ignore header line with genome information\n",
    "            if not line[0] == '>':\n",
    "                genome += line.rstrip()\n",
    "    return genome"
   ]
  },
  {
   "cell_type": "code",
   "execution_count": 44,
   "metadata": {
    "collapsed": false
   },
   "outputs": [],
   "source": [
    "t = readGenome(\"chr1.GRCh38.excerpt.fasta\") # reading the excerpt of human chromosome 1 for further analysis"
   ]
  },
  {
   "cell_type": "markdown",
   "metadata": {
    "collapsed": true
   },
   "source": [
    "Adapt the editDistance function we saw in practical (copied below) to answer questions 1 and 2 below. \n",
    "Your function should take arguments p (pattern), t (text) and should return the edit distance of the match \n",
    "between P and T with the fewest edits.\n",
    "\n",
    "Hint: In the \"A new solution to approximate matching\" video we saw that the best approximate match of \n",
    "    P =GCGTATGCwithin T =TATTGGCTATACGGTThad 2 edits. \n",
    "    You can use this and other small examples to double-check that your function is working."
   ]
  },
  {
   "cell_type": "code",
   "execution_count": 47,
   "metadata": {
    "collapsed": true
   },
   "outputs": [],
   "source": [
    "def editDistance_approx_match(x, y):\n",
    "    # Create distance matrix\n",
    "    D = []\n",
    "    for i in range(len(x)+1):\n",
    "        D.append([0]*(len(y)+1))\n",
    "    # Initialize first row and column of matrix\n",
    "    for i in range(len(x)+1):\n",
    "        D[i][0] = i\n",
    "    for i in range(len(y)+1):\n",
    "        D[0][i] = 0\n",
    "    # Fill in the rest of the matrix\n",
    "    for i in range(1, len(x)+1):\n",
    "        for j in range(1, len(y)+1):\n",
    "            distHor = D[i][j-1] + 1\n",
    "            distVer = D[i-1][j] + 1\n",
    "            if x[i-1] == y[j-1]:\n",
    "                distDiag = D[i-1][j-1]\n",
    "            else:\n",
    "                distDiag = D[i-1][j-1] + 1\n",
    "            D[i][j] = min(distHor, distVer, distDiag)\n",
    "    \n",
    "    # Edit distance is the value in the bottom right corner of the matrix\n",
    "    return min(D[-1])"
   ]
  },
  {
   "cell_type": "code",
   "execution_count": 48,
   "metadata": {
    "collapsed": false
   },
   "outputs": [
    {
     "name": "stdout",
     "output_type": "stream",
     "text": [
      "2\n"
     ]
    }
   ],
   "source": [
    "# Example 1\n",
    "P = 'GCGTATGC'\n",
    "T = 'TATTGGCTATACGGTT'\n",
    "ed = editDistance_approx_match(P, T)\n",
    "print(ed)"
   ]
  },
  {
   "cell_type": "markdown",
   "metadata": {
    "collapsed": true
   },
   "source": [
    "Question 1\n",
    "\n",
    "What is the edit distance of the best match between pattern GCTGATCGATCGTACG and the excerpt of human chromosome 1? \n",
    "(Don't consider reverse complements.)"
   ]
  },
  {
   "cell_type": "code",
   "execution_count": 49,
   "metadata": {
    "collapsed": false
   },
   "outputs": [
    {
     "name": "stdout",
     "output_type": "stream",
     "text": [
      "3\n"
     ]
    }
   ],
   "source": [
    "P = 'GCTGATCGATCGTACG'\n",
    "T = t\n",
    "ed = editDistance_approx_match(P, T)\n",
    "print(ed)"
   ]
  },
  {
   "cell_type": "markdown",
   "metadata": {
    "collapsed": true
   },
   "source": [
    "Question 2\n",
    "\n",
    "What is the edit distance of the best match between pattern GATTTACCAGATTGAG and the excerpt of human chromosome 1? \n",
    "(Don't consider reverse complements.)"
   ]
  },
  {
   "cell_type": "code",
   "execution_count": 50,
   "metadata": {
    "collapsed": false
   },
   "outputs": [
    {
     "name": "stdout",
     "output_type": "stream",
     "text": [
      "2\n"
     ]
    }
   ],
   "source": [
    "P = 'GATTTACCAGATTGAG'\n",
    "T = t\n",
    "ed = editDistance_approx_match(P, T)\n",
    "print(ed)"
   ]
  },
  {
   "cell_type": "markdown",
   "metadata": {
    "collapsed": true
   },
   "source": [
    "Question 3\n",
    "\n",
    "In a practical, we saw a function for finding the longest exact overlap (suffix/prefix match) between two strings. \n",
    "The function is copied below.\n",
    "Say we are concerned only with overlaps that (a) are exact matches (no differences allowed), and (b) are at least k bases long. \n",
    "To make an overlap graph, we could call overlap(a, b, min_length=k) on every possible pair of reads from the dataset. \n",
    "Unfortunately, that will be very slow!\n",
    "\n",
    "Consider this: Say we are using k=6, and we have a read a whose length-6 suffix is GTCCTA. \n",
    "Say GTCCTA does not occur in any other read in the dataset. \n",
    "In other words, the 6-mer GTCCTA occurs at the end of read a and nowhere else. \n",
    "It follows that a's suffix cannot possibly overlap the prefix of any other read by 6 or more characters.\n",
    "\n",
    "Put another way, if we want to find the overlaps involving a suffix of read a and a prefix of some other read, \n",
    "we can ignore any reads that don't contain the length-k suffix of a. This is good news because it can save us a lot of work!\n",
    "\n",
    "Here is a suggestion for how to implement this idea. You don't have to do it this way, but this might help you. \n",
    "Let every k-mer in the dataset have an associated Python set object, which starts out empty. \n",
    "We use a Python dictionary to associate each k-mer with its corresponding set. \n",
    "(1) For every k-mer in a read, we add the read to the set object corresponding to that k-mer. \n",
    "If our read is GATTA and k=3, we would add GATTA to the set objects for GAT, ATT and TTA. \n",
    "We do this for every read so that, at the end, each set contains all reads containing the corresponding k-mer. \n",
    "(2) Now, for each read a, we find all overlaps involving a suffix of a. \n",
    "To do this, we take a's length-k suffix, find all reads containing that k-mer (obtained from the corresponding set) \n",
    "and call overlap(a, b, min_length=k) for each.\n",
    "\n",
    "The most important point is that we do not call overlap(a, b, min_length=k) if b does not contain the length-k suffix of a.\n",
    "\n",
    "Download and parse the read sequences from the provided Phi-X FASTQ file. \n",
    "We'll just use their base sequences, so you can ignore read names and base qualities. \n",
    "Also, no two reads in the FASTQ have the same sequence of bases. This makes things simpler.\n",
    "\n",
    "https://d28rh4a8wq0iu5.cloudfront.net/ads1/data/ERR266411_1.for_asm.fastq\n",
    "\n",
    "Next, find all pairs of reads with an exact suffix/prefix match of length at least 30. \n",
    "Don't overlap a read with itself; if a read has a suffix/prefix match to itself, ignore that match. \n",
    "Ignore reverse complements.\n",
    "\n",
    "Hint 1: Your function should not take much more than 15 seconds to run on this 10,000-read dataset, \n",
    "and maybe much less than that. (Our solution takes about 3 seconds.) \n",
    "If your function is much slower, there is a problem somewhere.\n",
    "\n",
    "Hint 2: Remember not to overlap a read with itself. If you do, your answers will be too high.\n",
    "    \n",
    "Hint 3: You can test your implementation by making up small examples, then checking that \n",
    "(a) your implementation runs quickly, and (b) you get the same answer as if you had simply called overlap(a, b, min_length=k) \n",
    "on every pair of reads. We also have provided a couple examples you can check against.\n",
    "Picture the overlap graph corresponding to the overlaps just calculated. How many edges are in the graph? \n",
    "In other words, how many distinct pairs of reads overlap?"
   ]
  },
  {
   "cell_type": "code",
   "execution_count": 52,
   "metadata": {
    "collapsed": false
   },
   "outputs": [],
   "source": [
    "#Parse the file and get the reads out in a list\n",
    "def parse_repeats(filename):\n",
    "    repeats = []\n",
    "    from Bio import SeqIO\n",
    "    with open(filename, \"rU\") as handle:\n",
    "        for record in SeqIO.parse(handle, \"fastq\"):\n",
    "            repeats.append(str(record.seq))\n",
    "    return repeats"
   ]
  },
  {
   "cell_type": "code",
   "execution_count": 53,
   "metadata": {
    "collapsed": false
   },
   "outputs": [
    {
     "name": "stderr",
     "output_type": "stream",
     "text": [
      "C:\\ProgramData\\Anaconda3\\lib\\site-packages\\ipykernel\\__main__.py:5: DeprecationWarning: 'U' mode is deprecated\n"
     ]
    }
   ],
   "source": [
    "seqs = parse_repeats(\"ERR266411_1.for_asm.fastq\")"
   ]
  },
  {
   "cell_type": "code",
   "execution_count": 145,
   "metadata": {
    "collapsed": false
   },
   "outputs": [],
   "source": [
    "def overlap(a, b, min_length):\n",
    "    \"\"\" Return length of longest suffix of 'a' matching\n",
    "        a prefix of 'b' that is at least 'min_length'\n",
    "        characters long.  If no such overlap exists,\n",
    "        return 0. \"\"\"\n",
    "    start = 0  # start all the way at the left\n",
    "    \n",
    "    while True:\n",
    "        start = a.find(b[:min_length], start)  # look for b's prefix in a\n",
    "        if start == -1:  # no more occurrences to right\n",
    "            return 0\n",
    "        # found occurrence; check for full suffix/prefix match\n",
    "        if b.startswith(a[start:]):\n",
    "            return len(a)-start\n",
    "        start += 1  # move just past previous match"
   ]
  },
  {
   "cell_type": "code",
   "execution_count": 177,
   "metadata": {
    "collapsed": false
   },
   "outputs": [],
   "source": [
    "def overlap_all_pairs(reads, k):\n",
    "    from collections import defaultdict\n",
    "    kmer_set = [] # get the kmers into a list of tuples with the kmer and the reads from they came\n",
    "    kmer_dict = defaultdict(set) # convert the kmer_set to a dictionary with unique kmers and set of reads as values \n",
    "    match_pairs = [] # list to get the unique suffix-prefix pairs\n",
    "    # create the kmer_set\n",
    "    for read in reads:\n",
    "        for i in range(len(read)-k+1):\n",
    "            kmer = read[i:i+k]\n",
    "            kmer_set.append((kmer, read))\n",
    "    # create the kmer_dict as a defaultdict set    \n",
    "    for key, value in kmer_set:\n",
    "        kmer_dict[key].add(value)\n",
    "    # for each read, get the suffix, look in the dict, get the corresponding set and loop through the set \n",
    "    # with the overlap suffix-prefix function\n",
    "    for read in reads:\n",
    "        a = read[-k:]\n",
    "        if a in kmer_dict:\n",
    "            chk_reads = kmer_dict[a]\n",
    "            for cr in chk_reads:\n",
    "                if read != cr: # make sure the suffix, prefix are not from the same read\n",
    "                    olap = overlap(read, cr, k)\n",
    "                    if olap != 0:\n",
    "                        match_pairs.append((read, cr))\n",
    "    return len(match_pairs)"
   ]
  },
  {
   "cell_type": "code",
   "execution_count": 176,
   "metadata": {
    "collapsed": false
   },
   "outputs": [
    {
     "data": {
      "text/plain": [
       "[('ABCDEFG', 'EFGHIJ'), ('EFGHIJ', 'HIJABC'), ('HIJABC', 'ABCDEFG')]"
      ]
     },
     "execution_count": 176,
     "metadata": {},
     "output_type": "execute_result"
    }
   ],
   "source": [
    "# Example 1\n",
    "reads = ['ABCDEFG', 'EFGHIJ', 'HIJABC']\n",
    "overlap_all_pairs(reads, 3)\n",
    "\n"
   ]
  },
  {
   "cell_type": "code",
   "execution_count": 168,
   "metadata": {
    "collapsed": false
   },
   "outputs": [
    {
     "data": {
      "text/plain": [
       "[]"
      ]
     },
     "execution_count": 168,
     "metadata": {},
     "output_type": "execute_result"
    }
   ],
   "source": [
    "overlap_all_pairs(reads, 4)"
   ]
  },
  {
   "cell_type": "code",
   "execution_count": 170,
   "metadata": {
    "collapsed": false
   },
   "outputs": [
    {
     "data": {
      "text/plain": [
       "[('CGTACG', 'TACGAT'),\n",
       " ('CGTACG', 'TACGTA'),\n",
       " ('CGTACG', 'GTACGT'),\n",
       " ('CGTACG', 'GTACGA'),\n",
       " ('TACGTA', 'CGTACG'),\n",
       " ('TACGTA', 'ACGTAC'),\n",
       " ('GTACGT', 'TACGTA'),\n",
       " ('GTACGT', 'ACGTAC'),\n",
       " ('ACGTAC', 'GTACGA'),\n",
       " ('ACGTAC', 'GTACGT'),\n",
       " ('ACGTAC', 'CGTACG'),\n",
       " ('GTACGA', 'TACGAT')]"
      ]
     },
     "execution_count": 170,
     "metadata": {},
     "output_type": "execute_result"
    }
   ],
   "source": [
    "# Example 2\n",
    "re = ['CGTACG', 'TACGTA', 'GTACGT', 'ACGTAC', 'GTACGA', 'TACGAT']\n",
    "overlap_all_pairs(re, 4)"
   ]
  },
  {
   "cell_type": "code",
   "execution_count": 171,
   "metadata": {
    "collapsed": false
   },
   "outputs": [
    {
     "data": {
      "text/plain": [
       "[('CGTACG', 'GTACGT'),\n",
       " ('CGTACG', 'GTACGA'),\n",
       " ('TACGTA', 'ACGTAC'),\n",
       " ('GTACGT', 'TACGTA'),\n",
       " ('ACGTAC', 'CGTACG'),\n",
       " ('GTACGA', 'TACGAT')]"
      ]
     },
     "execution_count": 171,
     "metadata": {},
     "output_type": "execute_result"
    }
   ],
   "source": [
    "overlap_all_pairs(re, 5)"
   ]
  },
  {
   "cell_type": "code",
   "execution_count": 178,
   "metadata": {
    "collapsed": false
   },
   "outputs": [
    {
     "data": {
      "text/plain": [
       "904746"
      ]
     },
     "execution_count": 178,
     "metadata": {},
     "output_type": "execute_result"
    }
   ],
   "source": [
    "overlap_all_pairs(seqs, 30)"
   ]
  },
  {
   "cell_type": "markdown",
   "metadata": {
    "collapsed": true
   },
   "source": [
    "Question 4\n",
    "\n",
    "Picture the overlap graph corresponding to the overlaps computed for the previous question. How many nodes in this graph have at least one outgoing edge? \n",
    "(In other words, how many reads have a suffix involved in an overlap?)"
   ]
  },
  {
   "cell_type": "code",
   "execution_count": 182,
   "metadata": {
    "collapsed": false
   },
   "outputs": [],
   "source": [
    "def overlap_all_suffixread(reads, k):\n",
    "    from collections import defaultdict\n",
    "    kmer_set = []\n",
    "    kmer_dict = defaultdict(set)\n",
    "    match_pairs = []\n",
    "    read_suffix = [] # list of reads whose suffix has an overlap\n",
    "    for read in reads:\n",
    "        for i in range(len(read)-k+1):\n",
    "            kmer = read[i:i+k]\n",
    "            kmer_set.append((kmer, read))\n",
    "    for key, value in kmer_set:\n",
    "        kmer_dict[key].add(value)\n",
    "    for read in reads:\n",
    "        a = read[-k:]\n",
    "        if a in kmer_dict:\n",
    "            chk_reads = kmer_dict[a]\n",
    "            for cr in chk_reads:\n",
    "                if read != cr:\n",
    "                    olap = overlap(read, cr, k)\n",
    "                    if olap != 0:\n",
    "                        match_pairs.append((read, cr))\n",
    "                        if read not in read_suffix:\n",
    "                            read_suffix.append(read)\n",
    "    return len(read_suffix)"
   ]
  },
  {
   "cell_type": "code",
   "execution_count": 183,
   "metadata": {
    "collapsed": false
   },
   "outputs": [
    {
     "data": {
      "text/plain": [
       "7161"
      ]
     },
     "execution_count": 183,
     "metadata": {},
     "output_type": "execute_result"
    }
   ],
   "source": [
    "overlap_all_suffixread(seqs, 30)"
   ]
  }
 ],
 "metadata": {
  "kernelspec": {
   "display_name": "Python 3",
   "language": "python",
   "name": "python3"
  },
  "language_info": {
   "codemirror_mode": {
    "name": "ipython",
    "version": 3
   },
   "file_extension": ".py",
   "mimetype": "text/x-python",
   "name": "python",
   "nbconvert_exporter": "python",
   "pygments_lexer": "ipython3",
   "version": "3.6.0"
  }
 },
 "nbformat": 4,
 "nbformat_minor": 2
}
