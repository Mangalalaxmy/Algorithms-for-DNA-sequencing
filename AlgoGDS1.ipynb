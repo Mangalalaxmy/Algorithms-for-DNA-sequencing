{
 "cells": [
  {
   "cell_type": "code",
   "execution_count": 104,
   "metadata": {
    "collapsed": false
   },
   "outputs": [
    {
     "data": {
      "text/plain": [
       "'C:\\\\Users\\\\Ramya\\\\Desktop\\\\Ramya\\\\GenomicDataScience\\\\Algorithms for GDS'"
      ]
     },
     "execution_count": 104,
     "metadata": {},
     "output_type": "execute_result"
    }
   ],
   "source": [
    "pwd\n"
   ]
  },
  {
   "cell_type": "code",
   "execution_count": 105,
   "metadata": {
    "collapsed": false
   },
   "outputs": [
    {
     "name": "stdout",
     "output_type": "stream",
     "text": [
      "C:\\Users\\Ramya\\Desktop\\Ramya\\GenomicDataScience\\Algorithms for GDS\n"
     ]
    }
   ],
   "source": [
    "cd \"C:\\Users\\Ramya\\Desktop\\Ramya\\GenomicDataScience\\Algorithms for GDS\""
   ]
  },
  {
   "cell_type": "code",
   "execution_count": 103,
   "metadata": {
    "collapsed": true
   },
   "outputs": [],
   "source": [
    "def readGenome(filename):\n",
    "    genome = ''\n",
    "    with open(filename, 'r') as f:\n",
    "        for line in f:\n",
    "            # ignore header line with genome information\n",
    "            if not line[0] == '>':\n",
    "                genome += line.rstrip()\n",
    "    return genome\n"
   ]
  },
  {
   "cell_type": "code",
   "execution_count": 106,
   "metadata": {
    "collapsed": false
   },
   "outputs": [],
   "source": [
    "genome = readGenome(\"lambda_virus.fa\")"
   ]
  },
  {
   "cell_type": "code",
   "execution_count": 107,
   "metadata": {
    "collapsed": false
   },
   "outputs": [
    {
     "data": {
      "text/plain": [
       "48502"
      ]
     },
     "execution_count": 107,
     "metadata": {},
     "output_type": "execute_result"
    }
   ],
   "source": [
    "len(genome)"
   ]
  },
  {
   "cell_type": "code",
   "execution_count": 108,
   "metadata": {
    "collapsed": false
   },
   "outputs": [],
   "source": [
    "def reverseComplement(s):\n",
    "    complement = {'A': 'T', 'C': 'G', 'G': 'C', 'T': 'A', 'N': 'N'}\n",
    "    t = ''\n",
    "    for base in s:\n",
    "        t = complement[base] + t\n",
    "    return t"
   ]
  },
  {
   "cell_type": "code",
   "execution_count": 296,
   "metadata": {
    "collapsed": false
   },
   "outputs": [],
   "source": [
    "def naive_with_rc(p, t):\n",
    "    occurrences = [] \n",
    "    for i in range(len(t) - len(p) + 1):  # loop over alignments\n",
    "        match = True     # 3 matches categorised - actual match, rc match and matches where the p and rc(p) is same\n",
    "        rmatch = True\n",
    "        smatch = True\n",
    "        for j in range(len(p)):  # loop over characters\n",
    "            if t[i+j] != p[j]:  # compare characters\n",
    "                match = False\n",
    "            if t[i+j] != reverseComplement(p)[j]: # compare with the reverse complement\n",
    "                rmatch = False\n",
    "            if p[j] != reverseComplement(p)[j]:   # check to see if p is equal to its reerse complement\n",
    "                smatch = False     \n",
    "        if smatch:\n",
    "            if match and rmatch:          # all 3 kinds of matches recorded\n",
    "                occurrences.append(i)\n",
    "        elif not smatch:\n",
    "            if match:\n",
    "                occurrences.append(i)\n",
    "            elif rmatch:\n",
    "                occurrences.append(i)        \n",
    "    return occurrences"
   ]
  },
  {
   "cell_type": "code",
   "execution_count": 297,
   "metadata": {
    "collapsed": false
   },
   "outputs": [
    {
     "name": "stdout",
     "output_type": "stream",
     "text": [
      "[10, 23]\n"
     ]
    }
   ],
   "source": [
    "# Testing example\n",
    "p = 'CCC'\n",
    "ten_as = 'AAAAAAAAAA'\n",
    "t = ten_as + 'CCC' + ten_as + 'GGG' + ten_as\n",
    "r = naive_with_rc(p, t)\n",
    "print(r)"
   ]
  },
  {
   "cell_type": "code",
   "execution_count": 298,
   "metadata": {
    "collapsed": false
   },
   "outputs": [
    {
     "name": "stdout",
     "output_type": "stream",
     "text": [
      "[10, 24]\n"
     ]
    }
   ],
   "source": [
    "# Testing example\n",
    "p = 'CGCG'\n",
    "t = ten_as + 'CGCG' + ten_as + 'CGCG' + ten_as\n",
    "r = naive_with_rc(p, t)\n",
    "print(r)"
   ]
  },
  {
   "cell_type": "code",
   "execution_count": 303,
   "metadata": {
    "collapsed": true
   },
   "outputs": [],
   "source": [
    "# Testing example\n",
    "phix_genome = readGenome('phix.fa')"
   ]
  },
  {
   "cell_type": "code",
   "execution_count": 311,
   "metadata": {
    "collapsed": false
   },
   "outputs": [],
   "source": [
    "# Testing example\n",
    "occurrences = naive_with_rc('ATTA', phix_genome)"
   ]
  },
  {
   "cell_type": "code",
   "execution_count": 322,
   "metadata": {
    "collapsed": false
   },
   "outputs": [
    {
     "name": "stdout",
     "output_type": "stream",
     "text": [
      "offset of leftmost occurrence: 10\n"
     ]
    }
   ],
   "source": [
    "# Testing example\n",
    "print('offset of leftmost occurrence: %d' % min(occurrences))"
   ]
  },
  {
   "cell_type": "code",
   "execution_count": 313,
   "metadata": {
    "collapsed": false
   },
   "outputs": [
    {
     "name": "stdout",
     "output_type": "stream",
     "text": [
      "# occurrences: 60\n"
     ]
    }
   ],
   "source": [
    "# Testing example\n",
    "print('# occurrences: %d' % len(occurrences))"
   ]
  },
  {
   "cell_type": "markdown",
   "metadata": {},
   "source": [
    "How many times does AGGT or its reverse complement (ACCT) occur in the lambda virus genome?\n",
    "E.g. if AGGT occurs 10 times and ACCT occurs 12 times, you should report 22."
   ]
  },
  {
   "cell_type": "code",
   "execution_count": 316,
   "metadata": {
    "collapsed": false
   },
   "outputs": [
    {
     "name": "stdout",
     "output_type": "stream",
     "text": [
      "306\n"
     ]
    }
   ],
   "source": [
    "p = 'AGGT'\n",
    "t = genome\n",
    "r = naive_with_rc(p, t)\n",
    "print(len(r))"
   ]
  },
  {
   "cell_type": "markdown",
   "metadata": {},
   "source": [
    "How many times does TTAA or its reverse complement occur in the lambda virus genome?\n",
    "Hint: TTAA and its reverse complement are equal, so remember not to double count."
   ]
  },
  {
   "cell_type": "code",
   "execution_count": 317,
   "metadata": {
    "collapsed": false
   },
   "outputs": [
    {
     "name": "stdout",
     "output_type": "stream",
     "text": [
      "195\n"
     ]
    }
   ],
   "source": [
    "p = 'TTAA'\n",
    "t = genome\n",
    "occurrences = naive_with_rc(p, t)\n",
    "print(len(occurrences))"
   ]
  },
  {
   "cell_type": "markdown",
   "metadata": {},
   "source": [
    "What is the offset of the leftmost occurrence of ACTAAGT or its reverse complement in the Lambda virus genome?\n",
    "E.g. if the leftmost occurrence of ACTAAGT is at offset 40 (0-based) and the leftmost occurrence of its reverse \n",
    "complement ACTTAGT is at offset 29, then report 29."
   ]
  },
  {
   "cell_type": "code",
   "execution_count": 319,
   "metadata": {
    "collapsed": false
   },
   "outputs": [
    {
     "name": "stdout",
     "output_type": "stream",
     "text": [
      "26028\n"
     ]
    }
   ],
   "source": [
    "p = 'ACTAAGT'\n",
    "t = genome\n",
    "occurrences = naive_with_rc(p, t)\n",
    "print(min(occurrences))"
   ]
  },
  {
   "cell_type": "markdown",
   "metadata": {},
   "source": [
    "What is the offset of the leftmost occurrence of AGTCGA or its reverse complement in the Lambda virus genome?"
   ]
  },
  {
   "cell_type": "code",
   "execution_count": 320,
   "metadata": {
    "collapsed": false
   },
   "outputs": [
    {
     "name": "stdout",
     "output_type": "stream",
     "text": [
      "450\n"
     ]
    }
   ],
   "source": [
    "p = 'AGTCGA'\n",
    "t = genome\n",
    "occurrences = naive_with_rc(p, t)\n",
    "print(min(occurrences))"
   ]
  },
  {
   "cell_type": "markdown",
   "metadata": {},
   "source": [
    "For Questions 5 and 6, make a new version of the naive function called naive_2mm that allows up to 2 mismatches per occurrence. \n",
    "Unlike for the previous questions, do not consider the reverse complement here. \n",
    "We are looking for approximate matches for P itself, not its reverse complement.\n",
    "For example, ACTTTA occurs twice in ACTTACTTGATAAAGT, once at offset 0 with 2 mismatches, \n",
    "and once at offset 4 with 1 mismatch. So naive_2mm('ACTTTA', 'ACTTACTTGATAAAGT') should return the list [0, 4]."
   ]
  },
  {
   "cell_type": "code",
   "execution_count": 226,
   "metadata": {
    "collapsed": false
   },
   "outputs": [],
   "source": [
    "def naive_2mm(p, t):\n",
    "    occurrences = []\n",
    "    for i in range(len(t) - len(p) + 1):  # loop over alignments\n",
    "        match = 0\n",
    "        mm = 0\n",
    "        for j in range(len(p)):  # loop over characters\n",
    "            if t[i+j] != p[j]:  # compare characters\n",
    "                mm += 1\n",
    "                if mm > 2: # allowing upto 2 mismatches\n",
    "                    break\n",
    "            else:\n",
    "                match +=1\n",
    "        if match >= (len(p)-2) and mm <= 2: # both mismatches and actual matches recorded\n",
    "            if i not in occurrences:\n",
    "                occurrences.append(i)\n",
    "        if match == len(p):\n",
    "            if i not in occurrences:\n",
    "                occurrences.append(i)\n",
    "                \n",
    "    return occurrences"
   ]
  },
  {
   "cell_type": "code",
   "execution_count": 321,
   "metadata": {
    "collapsed": false
   },
   "outputs": [
    {
     "name": "stdout",
     "output_type": "stream",
     "text": [
      "[10, 24, 38]\n"
     ]
    }
   ],
   "source": [
    "# Testing example\n",
    "p = 'CTGT'\n",
    "ten_as = 'AAAAAAAAAA'\n",
    "t = ten_as + 'CTGT' + ten_as + 'CTTT' + ten_as + 'CGGG' + ten_as \n",
    "occurrences = naive_2mm(p, t)\n",
    "print(occurrences)"
   ]
  },
  {
   "cell_type": "code",
   "execution_count": 228,
   "metadata": {
    "collapsed": true
   },
   "outputs": [],
   "source": [
    "# Testing example\n",
    "phix_genome = readGenome('phix.fa')"
   ]
  },
  {
   "cell_type": "code",
   "execution_count": 229,
   "metadata": {
    "collapsed": true
   },
   "outputs": [],
   "source": [
    "# Testing example\n",
    "occurrences = naive_2mm('GATTACA', phix_genome)"
   ]
  },
  {
   "cell_type": "code",
   "execution_count": 230,
   "metadata": {
    "collapsed": false
   },
   "outputs": [
    {
     "name": "stdout",
     "output_type": "stream",
     "text": [
      "offset of leftmost occurrence: 10\n"
     ]
    }
   ],
   "source": [
    "# Testing example\n",
    "print('offset of leftmost occurrence: %d' % min(occurrences))"
   ]
  },
  {
   "cell_type": "code",
   "execution_count": 231,
   "metadata": {
    "collapsed": false
   },
   "outputs": [
    {
     "name": "stdout",
     "output_type": "stream",
     "text": [
      "# occurrences: 79\n"
     ]
    }
   ],
   "source": [
    "# Testing example\n",
    "print('# occurrences: %d' % len(occurrences))"
   ]
  },
  {
   "cell_type": "markdown",
   "metadata": {},
   "source": [
    "How many times does TTCAAGCC occur in the Lambda virus genome when allowing up to 2 mismatches?"
   ]
  },
  {
   "cell_type": "code",
   "execution_count": 232,
   "metadata": {
    "collapsed": false
   },
   "outputs": [
    {
     "name": "stdout",
     "output_type": "stream",
     "text": [
      "191\n"
     ]
    }
   ],
   "source": [
    "p = 'TTCAAGCC'\n",
    "t = genome\n",
    "occurrences = naive_2mm(p, t)\n",
    "print(len(occurrences))"
   ]
  },
  {
   "cell_type": "markdown",
   "metadata": {},
   "source": [
    "What is the offset of the leftmost occurrence of AGGAGGTT in the Lambda virus genome when allowing up to 2 mismatches?"
   ]
  },
  {
   "cell_type": "code",
   "execution_count": 233,
   "metadata": {
    "collapsed": false
   },
   "outputs": [
    {
     "name": "stdout",
     "output_type": "stream",
     "text": [
      "49\n"
     ]
    }
   ],
   "source": [
    "p = 'AGGAGGTT'\n",
    "t = genome\n",
    "occurrences = naive_2mm(p, t)\n",
    "print(min(occurrences))"
   ]
  },
  {
   "cell_type": "markdown",
   "metadata": {},
   "source": [
    "This dataset (ERR037900_1.first1000.fastq) has something wrong with it; one of the sequencing cycles is poor quality.\n",
    "\n",
    "Report which sequencing cycle has the problem. Remember that a sequencing cycle corresponds\n",
    "to a particular offset in all the reads. For example, if the leftmost read position seems to \n",
    "have a problem consistently across reads, report 0. If the fourth position from the left has the \n",
    "problem, report 3. Do whatever analysis you think is needed to identify the bad cycle. \n",
    "It might help to review the \"Analyzing reads by position\" video."
   ]
  },
  {
   "cell_type": "code",
   "execution_count": 235,
   "metadata": {
    "collapsed": true
   },
   "outputs": [],
   "source": [
    "def readFastq(filename):\n",
    "    sequences = []\n",
    "    qualities = []\n",
    "    with open(filename) as fh:\n",
    "        while True:\n",
    "            fh.readline()  # skip name line\n",
    "            seq = fh.readline().rstrip()  # read base sequence\n",
    "            fh.readline()  # skip placeholder line\n",
    "            qual = fh.readline().rstrip() # base quality line\n",
    "            if len(seq) == 0:\n",
    "                break\n",
    "            sequences.append(seq)\n",
    "            qualities.append(qual)\n",
    "    return sequences, qualities"
   ]
  },
  {
   "cell_type": "code",
   "execution_count": 239,
   "metadata": {
    "collapsed": true
   },
   "outputs": [],
   "source": [
    "seqs, quals = readFastq(\"ERR037900_1.first1000.fastq\")"
   ]
  },
  {
   "cell_type": "code",
   "execution_count": 240,
   "metadata": {
    "collapsed": false
   },
   "outputs": [],
   "source": [
    "def phred33toQ(qual):\n",
    "    return ord(qual) - 33"
   ]
  },
  {
   "cell_type": "code",
   "execution_count": 291,
   "metadata": {
    "collapsed": true
   },
   "outputs": [],
   "source": [
    "def findErrpos(reads):\n",
    "    errpos = {}\n",
    "    for read in reads: # loop over the reads\n",
    "        lowpos = []\n",
    "        for i in range(len(read)): # loop through each character of a read for lowest Q\n",
    "            if phred33toQ(read[i]) == 2:\n",
    "                lowpos.append(i)   # Append list for position of low value after each read\n",
    "        for p in lowpos:\n",
    "            if p not in errpos:  # Append dictionary with position and count from the list\n",
    "                errpos[p] = 1\n",
    "            else:\n",
    "                errpos[p] += 1\n",
    "    return errpos         "
   ]
  },
  {
   "cell_type": "code",
   "execution_count": 292,
   "metadata": {
    "collapsed": false
   },
   "outputs": [],
   "source": [
    "sc = findErrpos(quals)"
   ]
  },
  {
   "cell_type": "code",
   "execution_count": 294,
   "metadata": {
    "collapsed": false
   },
   "outputs": [
    {
     "data": {
      "text/plain": [
       "919"
      ]
     },
     "execution_count": 294,
     "metadata": {},
     "output_type": "execute_result"
    }
   ],
   "source": [
    "max(sc.values())"
   ]
  },
  {
   "cell_type": "code",
   "execution_count": 295,
   "metadata": {
    "collapsed": false
   },
   "outputs": [
    {
     "data": {
      "text/plain": [
       "{33: 1,\n",
       " 34: 2,\n",
       " 35: 5,\n",
       " 36: 5,\n",
       " 37: 5,\n",
       " 38: 6,\n",
       " 39: 10,\n",
       " 40: 13,\n",
       " 41: 13,\n",
       " 42: 13,\n",
       " 43: 14,\n",
       " 44: 19,\n",
       " 45: 23,\n",
       " 46: 25,\n",
       " 47: 28,\n",
       " 48: 29,\n",
       " 49: 34,\n",
       " 50: 49,\n",
       " 51: 50,\n",
       " 52: 60,\n",
       " 53: 56,\n",
       " 54: 64,\n",
       " 55: 86,\n",
       " 56: 90,\n",
       " 57: 93,\n",
       " 58: 97,\n",
       " 59: 106,\n",
       " 60: 142,\n",
       " 61: 144,\n",
       " 62: 152,\n",
       " 63: 156,\n",
       " 64: 184,\n",
       " 65: 284,\n",
       " 66: 919,\n",
       " 67: 287,\n",
       " 68: 290,\n",
       " 69: 293,\n",
       " 70: 303,\n",
       " 71: 303,\n",
       " 72: 303,\n",
       " 73: 305,\n",
       " 74: 309,\n",
       " 75: 313,\n",
       " 76: 314,\n",
       " 77: 318,\n",
       " 78: 329,\n",
       " 79: 346,\n",
       " 80: 390,\n",
       " 81: 392,\n",
       " 82: 398,\n",
       " 83: 409,\n",
       " 84: 431,\n",
       " 85: 473,\n",
       " 86: 484,\n",
       " 87: 497,\n",
       " 88: 512,\n",
       " 89: 534,\n",
       " 90: 572,\n",
       " 91: 576,\n",
       " 92: 583,\n",
       " 93: 591,\n",
       " 94: 613,\n",
       " 95: 644,\n",
       " 96: 649,\n",
       " 97: 654,\n",
       " 98: 661,\n",
       " 99: 670}"
      ]
     },
     "execution_count": 295,
     "metadata": {},
     "output_type": "execute_result"
    }
   ],
   "source": [
    "sc"
   ]
  }
 ],
 "metadata": {
  "kernelspec": {
   "display_name": "Python 3",
   "language": "python",
   "name": "python3"
  },
  "language_info": {
   "codemirror_mode": {
    "name": "ipython",
    "version": 3
   },
   "file_extension": ".py",
   "mimetype": "text/x-python",
   "name": "python",
   "nbconvert_exporter": "python",
   "pygments_lexer": "ipython3",
   "version": "3.6.0"
  }
 },
 "nbformat": 4,
 "nbformat_minor": 2
}
